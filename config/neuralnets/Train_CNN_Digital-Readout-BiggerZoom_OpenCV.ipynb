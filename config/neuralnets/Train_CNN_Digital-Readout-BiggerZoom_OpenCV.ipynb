{
 "cells": [
  {
   "cell_type": "markdown",
   "metadata": {},
   "source": [
    "# CNN Training\n",
    "\n",
    "Target of this code is to train a CNN network to classify images of a digital readout to the digits 0 to 9. Additionally a category \"NaN\" is introduced, to mark images that are not amibiguous.\n",
    "\n",
    "### Preparing the training\n",
    "* First all libraries are loaded\n",
    "    * It is assumed, that they are installed during the Python setup\n",
    "* matplotlib is set to print the output inline in the jupyter notebook"
   ]
  },
  {
   "cell_type": "code",
   "execution_count": 1,
   "metadata": {
    "scrolled": true
   },
   "outputs": [
    {
     "name": "stderr",
     "output_type": "stream",
     "text": [
      "Using TensorFlow backend.\n"
     ]
    }
   ],
   "source": [
    "import os\n",
    "import matplotlib.pyplot as plt\n",
    "import glob\n",
    "import cv2\n",
    "#from PIL import Image\n",
    "import numpy as np\n",
    "from sklearn.utils import shuffle\n",
    "from tensorflow.python import keras\n",
    "from tensorflow.python.keras import Sequential\n",
    "from tensorflow.python.keras.layers import Dense, InputLayer, Conv2D, MaxPool2D, Flatten, BatchNormalization\n",
    "from keras.preprocessing.image import ImageDataGenerator\n",
    "from sklearn.model_selection import train_test_split\n",
    "import keras.backend as K\n",
    "from keras.callbacks import History \n",
    "from tensorflow.python.keras.utils import to_categorical\n",
    "\n",
    "loss_ges = np.array([])\n",
    "val_loss_ges = np.array([])\n",
    "\n",
    "%matplotlib inline\n",
    "np.set_printoptions(precision=4)\n",
    "np.set_printoptions(suppress=True)"
   ]
  },
  {
   "cell_type": "markdown",
   "metadata": {},
   "source": [
    "### Load training data\n",
    "* The data is expected in the \"Input_dir\"\n",
    "* Inside subdirectories are expected from -1, 0, 1, ... 9 in which the pictures are sorted according to their values (=category)\n",
    "* Picture size must be 20x32 with 3 color channels (RGB)\n",
    "* The filename can be arbitrary\n",
    "\n",
    "* The images are stored in the x_data[]\n",
    "* The expected category for each image in the corresponding y_data[]\n",
    "\n",
    "* The last step is a shuffle (from sklearn.utils) and split the data into training and validation data"
   ]
  },
  {
   "cell_type": "code",
   "execution_count": 2,
   "metadata": {},
   "outputs": [
    {
     "name": "stdout",
     "output_type": "stream",
     "text": [
      "(5237, 32, 20, 3)\n",
      "(5237, 11)\n"
     ]
    }
   ],
   "source": [
    "Input_dir='ziffer_sortiert_resize'\n",
    "\n",
    "files = glob.glob(Input_dir + '/*.*')\n",
    "x_data = []\n",
    "y_data = []\n",
    "\n",
    "subdir = [\"0\", \"1\", \"2\", \"3\", \"4\", \"5\", \"6\", \"7\", \"8\", \"9\", \"NaN\"]\n",
    "\n",
    "for aktsubdir in subdir:\n",
    "    files = glob.glob(Input_dir + '/' + aktsubdir + '/*.jpg')\n",
    "    if aktsubdir == \"NaN\":\n",
    "        category = 10                # NaN does not work --> convert to 10\n",
    "    else:\n",
    "        category = aktsubdir\n",
    "    for aktfile in files:\n",
    "        test_image = cv2.imread(aktfile)\n",
    "        test_image = np.array(test_image, dtype=\"float32\")\n",
    "        x_data.append(test_image)\n",
    "        y_data.append(np.array([category]))\n",
    "\n",
    "x_data = np.array(x_data)\n",
    "y_data = np.array(y_data)\n",
    "y_data = to_categorical(y_data, 11)\n",
    "print(x_data.shape)\n",
    "print(y_data.shape)\n",
    "\n",
    "x_data, y_data = shuffle(x_data, y_data)\n",
    "X_train, X_test, y_train, y_test = train_test_split(x_data, y_data, test_size=0.2)"
   ]
  },
  {
   "cell_type": "markdown",
   "metadata": {},
   "source": [
    "### Define the model\n",
    "\n",
    "The layout of the network ist a typcial CNN network with alternating **Conv2D** and **MaxPool2D** layers. Finished after **flattening** with additional **Dense** layer.\n",
    "\n",
    "#### Important\n",
    "* Shape of the input layer: (32, 20, 3)\n",
    "* Number of output layers: 11\n",
    "* As loss function \"categorical_crossentropy\" is choosen, as it is a categories task"
   ]
  },
  {
   "cell_type": "code",
   "execution_count": 3,
   "metadata": {
    "scrolled": true
   },
   "outputs": [
    {
     "name": "stdout",
     "output_type": "stream",
     "text": [
      "WARNING:tensorflow:From C:\\Users\\Muell\\AppData\\Roaming\\Python\\Python37\\site-packages\\tensorflow\\python\\ops\\resource_variable_ops.py:435: colocate_with (from tensorflow.python.framework.ops) is deprecated and will be removed in a future version.\n",
      "Instructions for updating:\n",
      "Colocations handled automatically by placer.\n",
      "_________________________________________________________________\n",
      "Layer (type)                 Output Shape              Param #   \n",
      "=================================================================\n",
      "batch_normalization_v1 (Batc (None, 32, 20, 3)         12        \n",
      "_________________________________________________________________\n",
      "conv2d (Conv2D)              (None, 32, 20, 32)        896       \n",
      "_________________________________________________________________\n",
      "max_pooling2d (MaxPooling2D) (None, 16, 10, 32)        0         \n",
      "_________________________________________________________________\n",
      "conv2d_1 (Conv2D)            (None, 16, 10, 64)        18496     \n",
      "_________________________________________________________________\n",
      "max_pooling2d_1 (MaxPooling2 (None, 8, 5, 64)          0         \n",
      "_________________________________________________________________\n",
      "conv2d_2 (Conv2D)            (None, 8, 5, 64)          36928     \n",
      "_________________________________________________________________\n",
      "max_pooling2d_2 (MaxPooling2 (None, 4, 2, 64)          0         \n",
      "_________________________________________________________________\n",
      "flatten (Flatten)            (None, 512)               0         \n",
      "_________________________________________________________________\n",
      "dense (Dense)                (None, 512)               262656    \n",
      "_________________________________________________________________\n",
      "dense_1 (Dense)              (None, 11)                5643      \n",
      "=================================================================\n",
      "Total params: 324,631\n",
      "Trainable params: 324,625\n",
      "Non-trainable params: 6\n",
      "_________________________________________________________________\n"
     ]
    }
   ],
   "source": [
    "model = Sequential()\n",
    "model.add(BatchNormalization(input_shape=(32,20,3)))\n",
    "model.add(Conv2D(32, (3, 3), padding='same', activation=\"relu\"))\n",
    "model.add(MaxPool2D(pool_size=(2,2)))\n",
    "model.add(Conv2D(64, (3, 3), padding='same'))\n",
    "model.add(MaxPool2D(pool_size=(2,2)))\n",
    "model.add(Conv2D(64, (3, 3), padding='same'))\n",
    "model.add(MaxPool2D(pool_size=(2,2)))\n",
    "model.add(Flatten())\n",
    "model.add(Dense(512,activation=\"relu\"))\n",
    "model.add(Dense(11, activation = \"softmax\"))\n",
    "model.summary()\n",
    "\n",
    "model.compile(loss=keras.losses.categorical_crossentropy, optimizer=keras.optimizers.Adadelta(), metrics = [\"accuracy\"])"
   ]
  },
  {
   "cell_type": "markdown",
   "metadata": {},
   "source": [
    "# Training\n",
    "The input pictures are randomly scattered for brightness, pixel shift variations and rotation angle. This is implemented with a ImageDataGenerator.\n"
   ]
  },
  {
   "cell_type": "code",
   "execution_count": 4,
   "metadata": {
    "scrolled": true
   },
   "outputs": [
    {
     "name": "stdout",
     "output_type": "stream",
     "text": [
      "WARNING:tensorflow:From C:\\Users\\Muell\\AppData\\Roaming\\Python\\Python37\\site-packages\\tensorflow\\python\\ops\\math_ops.py:3066: to_int32 (from tensorflow.python.ops.math_ops) is deprecated and will be removed in a future version.\n",
      "Instructions for updating:\n",
      "Use tf.cast instead.\n",
      "Epoch 1/80\n",
      "262/262 [==============================] - 1s 5ms/step - loss: 0.1654 - acc: 0.9485\n",
      "1048/1048 [==============================] - 17s 16ms/step - loss: 0.3783 - acc: 0.8899 - val_loss: 0.1654 - val_acc: 0.9485\n",
      "Epoch 2/80\n",
      "262/262 [==============================] - 2s 7ms/step - loss: 0.1003 - acc: 0.9695\n",
      "1048/1048 [==============================] - 19s 18ms/step - loss: 0.1325 - acc: 0.9606 - val_loss: 0.1003 - val_acc: 0.9695\n",
      "Epoch 3/80\n",
      "262/262 [==============================] - 1s 5ms/step - loss: 0.0958 - acc: 0.9761\n",
      "1048/1048 [==============================] - 18s 17ms/step - loss: 0.0999 - acc: 0.9714 - val_loss: 0.0958 - val_acc: 0.9761\n",
      "Epoch 4/80\n",
      "262/262 [==============================] - 1s 5ms/step - loss: 0.0626 - acc: 0.9809\n",
      "1048/1048 [==============================] - 18s 17ms/step - loss: 0.0853 - acc: 0.9747 - val_loss: 0.0626 - val_acc: 0.9809\n",
      "Epoch 5/80\n",
      "262/262 [==============================] - 2s 6ms/step - loss: 0.0716 - acc: 0.9752\n",
      "1048/1048 [==============================] - 18s 18ms/step - loss: 0.0763 - acc: 0.9776 - val_loss: 0.0716 - val_acc: 0.9752\n",
      "Epoch 6/80\n",
      "262/262 [==============================] - 2s 6ms/step - loss: 0.0635 - acc: 0.9828\n",
      "1048/1048 [==============================] - 19s 18ms/step - loss: 0.0684 - acc: 0.9802 - val_loss: 0.0635 - val_acc: 0.9828\n",
      "Epoch 7/80\n",
      "262/262 [==============================] - 1s 5ms/step - loss: 0.0885 - acc: 0.9781\n",
      "1048/1048 [==============================] - 18s 17ms/step - loss: 0.0562 - acc: 0.9859 - val_loss: 0.0885 - val_acc: 0.9781\n",
      "Epoch 8/80\n",
      "262/262 [==============================] - 1s 6ms/step - loss: 0.0689 - acc: 0.9790\n",
      "1048/1048 [==============================] - 18s 18ms/step - loss: 0.0564 - acc: 0.9850 - val_loss: 0.0689 - val_acc: 0.9790\n",
      "Epoch 9/80\n",
      "262/262 [==============================] - 1s 5ms/step - loss: 0.0545 - acc: 0.9847\n",
      "1048/1048 [==============================] - 19s 18ms/step - loss: 0.0487 - acc: 0.9876 - val_loss: 0.0545 - val_acc: 0.9847\n",
      "Epoch 10/80\n",
      "262/262 [==============================] - 1s 5ms/step - loss: 0.0401 - acc: 0.9857\n",
      "1048/1048 [==============================] - 19s 18ms/step - loss: 0.0527 - acc: 0.9857 - val_loss: 0.0401 - val_acc: 0.9857\n",
      "Epoch 11/80\n",
      "262/262 [==============================] - 1s 5ms/step - loss: 0.0497 - acc: 0.9876\n",
      "1048/1048 [==============================] - 18s 18ms/step - loss: 0.0388 - acc: 0.9888 - val_loss: 0.0497 - val_acc: 0.9876\n",
      "Epoch 12/80\n",
      "262/262 [==============================] - 2s 6ms/step - loss: 0.0677 - acc: 0.9847\n",
      "1048/1048 [==============================] - 20s 19ms/step - loss: 0.0446 - acc: 0.9881 - val_loss: 0.0677 - val_acc: 0.9847\n",
      "Epoch 13/80\n",
      "262/262 [==============================] - 2s 6ms/step - loss: 0.0404 - acc: 0.9857\n",
      "1048/1048 [==============================] - 22s 21ms/step - loss: 0.0476 - acc: 0.9869 - val_loss: 0.0404 - val_acc: 0.9857\n",
      "Epoch 14/80\n",
      "262/262 [==============================] - 2s 6ms/step - loss: 0.0445 - acc: 0.9885\n",
      "1048/1048 [==============================] - 21s 20ms/step - loss: 0.0404 - acc: 0.9895 - val_loss: 0.0445 - val_acc: 0.9885\n",
      "Epoch 15/80\n",
      "262/262 [==============================] - 2s 6ms/step - loss: 0.0414 - acc: 0.9885\n",
      "1048/1048 [==============================] - 22s 21ms/step - loss: 0.0479 - acc: 0.9878 - val_loss: 0.0414 - val_acc: 0.9885\n",
      "Epoch 16/80\n",
      "262/262 [==============================] - 2s 6ms/step - loss: 0.0697 - acc: 0.9866\n",
      "1048/1048 [==============================] - 20s 19ms/step - loss: 0.0325 - acc: 0.9912 - val_loss: 0.0697 - val_acc: 0.9866\n",
      "Epoch 17/80\n",
      "262/262 [==============================] - 2s 6ms/step - loss: 0.0414 - acc: 0.9885\n",
      "1048/1048 [==============================] - 21s 20ms/step - loss: 0.0365 - acc: 0.9924 - val_loss: 0.0414 - val_acc: 0.9885\n",
      "Epoch 18/80\n",
      "262/262 [==============================] - 2s 7ms/step - loss: 0.0363 - acc: 0.9876\n",
      "1048/1048 [==============================] - 21s 20ms/step - loss: 0.0318 - acc: 0.9924 - val_loss: 0.0363 - val_acc: 0.9876\n",
      "Epoch 19/80\n",
      "262/262 [==============================] - 2s 6ms/step - loss: 0.0343 - acc: 0.9914\n",
      "1048/1048 [==============================] - 19s 18ms/step - loss: 0.0369 - acc: 0.9893 - val_loss: 0.0343 - val_acc: 0.9914\n",
      "Epoch 20/80\n",
      "262/262 [==============================] - 2s 6ms/step - loss: 0.0347 - acc: 0.9895\n",
      "1048/1048 [==============================] - 21s 20ms/step - loss: 0.0308 - acc: 0.9919 - val_loss: 0.0347 - val_acc: 0.9895\n",
      "Epoch 21/80\n",
      "262/262 [==============================] - 1s 6ms/step - loss: 0.0376 - acc: 0.9895\n",
      "1048/1048 [==============================] - 21s 20ms/step - loss: 0.0303 - acc: 0.9909 - val_loss: 0.0376 - val_acc: 0.9895\n",
      "Epoch 22/80\n",
      "262/262 [==============================] - 2s 7ms/step - loss: 0.0486 - acc: 0.9876\n",
      "1048/1048 [==============================] - 24s 22ms/step - loss: 0.0328 - acc: 0.9931 - val_loss: 0.0486 - val_acc: 0.9876\n",
      "Epoch 23/80\n",
      "262/262 [==============================] - 2s 6ms/step - loss: 0.0273 - acc: 0.9933\n",
      "1048/1048 [==============================] - 23s 22ms/step - loss: 0.0269 - acc: 0.9933 - val_loss: 0.0273 - val_acc: 0.9933\n",
      "Epoch 24/80\n",
      "262/262 [==============================] - 2s 6ms/step - loss: 0.0244 - acc: 0.9905\n",
      "1048/1048 [==============================] - 20s 19ms/step - loss: 0.0326 - acc: 0.9916 - val_loss: 0.0244 - val_acc: 0.9905\n",
      "Epoch 25/80\n",
      "262/262 [==============================] - 2s 6ms/step - loss: 0.0199 - acc: 0.9943\n",
      "1048/1048 [==============================] - 20s 19ms/step - loss: 0.0320 - acc: 0.9916 - val_loss: 0.0199 - val_acc: 0.9943\n",
      "Epoch 26/80\n",
      "262/262 [==============================] - 1s 6ms/step - loss: 0.0388 - acc: 0.9885\n",
      "1048/1048 [==============================] - 20s 19ms/step - loss: 0.0274 - acc: 0.9943 - val_loss: 0.0388 - val_acc: 0.9885\n",
      "Epoch 27/80\n",
      "262/262 [==============================] - 1s 6ms/step - loss: 0.0396 - acc: 0.9895\n",
      "1048/1048 [==============================] - 20s 19ms/step - loss: 0.0316 - acc: 0.9931 - val_loss: 0.0396 - val_acc: 0.9895\n",
      "Epoch 28/80\n",
      "262/262 [==============================] - 2s 8ms/step - loss: 0.0433 - acc: 0.9866\n",
      "1048/1048 [==============================] - 22s 21ms/step - loss: 0.0233 - acc: 0.9931 - val_loss: 0.0433 - val_acc: 0.9866\n",
      "Epoch 29/80\n",
      "262/262 [==============================] - 2s 6ms/step - loss: 0.0341 - acc: 0.9933\n",
      "1048/1048 [==============================] - 20s 19ms/step - loss: 0.0315 - acc: 0.9924 - val_loss: 0.0341 - val_acc: 0.9933\n",
      "Epoch 30/80\n",
      "262/262 [==============================] - 2s 6ms/step - loss: 0.0668 - acc: 0.9847\n",
      "1048/1048 [==============================] - 20s 19ms/step - loss: 0.0285 - acc: 0.9938 - val_loss: 0.0668 - val_acc: 0.9847\n",
      "Epoch 31/80\n",
      "262/262 [==============================] - 2s 7ms/step - loss: 0.0325 - acc: 0.9943\n",
      "1048/1048 [==============================] - 20s 19ms/step - loss: 0.0286 - acc: 0.9943 - val_loss: 0.0325 - val_acc: 0.9943\n",
      "Epoch 32/80\n",
      "262/262 [==============================] - 2s 7ms/step - loss: 0.0293 - acc: 0.9914\n",
      "1048/1048 [==============================] - 21s 20ms/step - loss: 0.0261 - acc: 0.9943 - val_loss: 0.0293 - val_acc: 0.9914\n",
      "Epoch 33/80\n",
      "262/262 [==============================] - 2s 6ms/step - loss: 0.0227 - acc: 0.9952\n",
      "1048/1048 [==============================] - 22s 21ms/step - loss: 0.0260 - acc: 0.9945 - val_loss: 0.0227 - val_acc: 0.9952\n",
      "Epoch 34/80\n",
      "262/262 [==============================] - 2s 9ms/step - loss: 0.0402 - acc: 0.9895\n",
      "1048/1048 [==============================] - 27s 26ms/step - loss: 0.0224 - acc: 0.9931 - val_loss: 0.0402 - val_acc: 0.9895\n",
      "Epoch 35/80\n",
      "262/262 [==============================] - 2s 7ms/step - loss: 0.0268 - acc: 0.9962\n",
      "1048/1048 [==============================] - 24s 23ms/step - loss: 0.0318 - acc: 0.9933 - val_loss: 0.0268 - val_acc: 0.9962\n",
      "Epoch 36/80\n",
      "262/262 [==============================] - 2s 7ms/step - loss: 0.0292 - acc: 0.9933\n",
      "1048/1048 [==============================] - 23s 22ms/step - loss: 0.0287 - acc: 0.9924 - val_loss: 0.0292 - val_acc: 0.9933\n"
     ]
    },
    {
     "name": "stdout",
     "output_type": "stream",
     "text": [
      "Epoch 37/80\n",
      "262/262 [==============================] - 2s 6ms/step - loss: 0.0225 - acc: 0.9905\n",
      "1048/1048 [==============================] - 23s 22ms/step - loss: 0.0253 - acc: 0.9928 - val_loss: 0.0225 - val_acc: 0.9905\n",
      "Epoch 38/80\n",
      "262/262 [==============================] - 2s 8ms/step - loss: 0.0240 - acc: 0.9943\n",
      "1048/1048 [==============================] - 23s 22ms/step - loss: 0.0233 - acc: 0.9931 - val_loss: 0.0240 - val_acc: 0.9943\n",
      "Epoch 39/80\n",
      "262/262 [==============================] - 2s 7ms/step - loss: 0.0143 - acc: 0.9962\n",
      "1048/1048 [==============================] - 23s 22ms/step - loss: 0.0198 - acc: 0.9950 - val_loss: 0.0143 - val_acc: 0.9962\n",
      "Epoch 40/80\n",
      "262/262 [==============================] - 2s 7ms/step - loss: 0.0452 - acc: 0.9885\n",
      "1048/1048 [==============================] - 22s 21ms/step - loss: 0.0236 - acc: 0.9940 - val_loss: 0.0452 - val_acc: 0.9885\n",
      "Epoch 41/80\n",
      "262/262 [==============================] - 2s 6ms/step - loss: 0.0466 - acc: 0.9914\n",
      "1048/1048 [==============================] - 23s 22ms/step - loss: 0.0254 - acc: 0.9931 - val_loss: 0.0466 - val_acc: 0.9914\n",
      "Epoch 42/80\n",
      "262/262 [==============================] - 2s 6ms/step - loss: 0.0235 - acc: 0.9952\n",
      "1048/1048 [==============================] - 21s 20ms/step - loss: 0.0154 - acc: 0.9962 - val_loss: 0.0235 - val_acc: 0.9952\n",
      "Epoch 43/80\n",
      "262/262 [==============================] - 2s 7ms/step - loss: 0.0258 - acc: 0.9952\n",
      "1048/1048 [==============================] - 22s 21ms/step - loss: 0.0189 - acc: 0.9952 - val_loss: 0.0258 - val_acc: 0.9952\n",
      "Epoch 44/80\n",
      "262/262 [==============================] - 2s 7ms/step - loss: 0.0393 - acc: 0.9885\n",
      "1048/1048 [==============================] - 22s 21ms/step - loss: 0.0166 - acc: 0.9959 - val_loss: 0.0393 - val_acc: 0.9885\n",
      "Epoch 45/80\n",
      "262/262 [==============================] - 2s 6ms/step - loss: 0.0222 - acc: 0.9933\n",
      "1048/1048 [==============================] - 23s 22ms/step - loss: 0.0127 - acc: 0.9964 - val_loss: 0.0222 - val_acc: 0.9933\n",
      "Epoch 46/80\n",
      "262/262 [==============================] - 2s 7ms/step - loss: 0.0307 - acc: 0.9933\n",
      "1048/1048 [==============================] - 22s 21ms/step - loss: 0.0220 - acc: 0.9955 - val_loss: 0.0307 - val_acc: 0.9933\n",
      "Epoch 47/80\n",
      "262/262 [==============================] - 2s 7ms/step - loss: 0.0446 - acc: 0.9933\n",
      "1048/1048 [==============================] - 24s 22ms/step - loss: 0.0257 - acc: 0.9955 - val_loss: 0.0446 - val_acc: 0.9933\n",
      "Epoch 48/80\n",
      "262/262 [==============================] - 2s 8ms/step - loss: 0.0271 - acc: 0.9943\n",
      "1048/1048 [==============================] - 23s 22ms/step - loss: 0.0262 - acc: 0.9955 - val_loss: 0.0271 - val_acc: 0.9943\n",
      "Epoch 49/80\n",
      "262/262 [==============================] - 2s 7ms/step - loss: 0.0401 - acc: 0.9952\n",
      "1048/1048 [==============================] - 23s 22ms/step - loss: 0.0108 - acc: 0.9971 - val_loss: 0.0401 - val_acc: 0.9952\n",
      "Epoch 50/80\n",
      "262/262 [==============================] - 2s 8ms/step - loss: 0.0380 - acc: 0.9952\n",
      "1048/1048 [==============================] - 23s 22ms/step - loss: 0.0191 - acc: 0.9945 - val_loss: 0.0380 - val_acc: 0.9952\n",
      "Epoch 51/80\n",
      "262/262 [==============================] - 2s 7ms/step - loss: 0.0098 - acc: 0.9981\n",
      "1048/1048 [==============================] - 23s 22ms/step - loss: 0.0183 - acc: 0.9955 - val_loss: 0.0098 - val_acc: 0.9981\n",
      "Epoch 52/80\n",
      "262/262 [==============================] - 2s 6ms/step - loss: 0.0712 - acc: 0.9895\n",
      "1048/1048 [==============================] - 23s 22ms/step - loss: 0.0277 - acc: 0.9940 - val_loss: 0.0712 - val_acc: 0.9895\n",
      "Epoch 53/80\n",
      "262/262 [==============================] - 2s 8ms/step - loss: 0.0218 - acc: 0.9933\n",
      "1048/1048 [==============================] - 22s 21ms/step - loss: 0.0209 - acc: 0.9940 - val_loss: 0.0218 - val_acc: 0.9933\n",
      "Epoch 54/80\n",
      "262/262 [==============================] - 2s 7ms/step - loss: 0.0354 - acc: 0.9952\n",
      "1048/1048 [==============================] - 24s 23ms/step - loss: 0.0203 - acc: 0.9955 - val_loss: 0.0354 - val_acc: 0.9952\n",
      "Epoch 55/80\n",
      "262/262 [==============================] - 2s 7ms/step - loss: 0.0184 - acc: 0.9962\n",
      "1048/1048 [==============================] - 23s 21ms/step - loss: 0.0260 - acc: 0.9952 - val_loss: 0.0184 - val_acc: 0.9962\n",
      "Epoch 56/80\n",
      "262/262 [==============================] - 2s 6ms/step - loss: 0.0162 - acc: 0.9952\n",
      "1048/1048 [==============================] - 22s 21ms/step - loss: 0.0227 - acc: 0.9957 - val_loss: 0.0162 - val_acc: 0.9952\n",
      "Epoch 57/80\n",
      "262/262 [==============================] - 2s 7ms/step - loss: 0.0219 - acc: 0.9952\n",
      "1048/1048 [==============================] - 23s 22ms/step - loss: 0.0269 - acc: 0.9940 - val_loss: 0.0219 - val_acc: 0.9952\n",
      "Epoch 58/80\n",
      "262/262 [==============================] - 2s 7ms/step - loss: 0.0262 - acc: 0.9933\n",
      "1048/1048 [==============================] - 25s 24ms/step - loss: 0.0147 - acc: 0.9971 - val_loss: 0.0262 - val_acc: 0.9933\n",
      "Epoch 59/80\n",
      "262/262 [==============================] - 2s 7ms/step - loss: 0.0168 - acc: 0.9962\n",
      "1048/1048 [==============================] - 24s 23ms/step - loss: 0.0296 - acc: 0.9957 - val_loss: 0.0168 - val_acc: 0.9962\n",
      "Epoch 60/80\n",
      "262/262 [==============================] - 2s 6ms/step - loss: 0.0288 - acc: 0.9952ETA: 6s - \n",
      "1048/1048 [==============================] - 23s 22ms/step - loss: 0.0120 - acc: 0.9979 - val_loss: 0.0288 - val_acc: 0.9952\n",
      "Epoch 61/80\n",
      "262/262 [==============================] - 2s 7ms/step - loss: 0.0541 - acc: 0.9895\n",
      "1048/1048 [==============================] - 23s 22ms/step - loss: 0.0335 - acc: 0.9947 - val_loss: 0.0541 - val_acc: 0.9895\n",
      "Epoch 62/80\n",
      "262/262 [==============================] - 2s 8ms/step - loss: 0.0619 - acc: 0.9905\n",
      "1048/1048 [==============================] - 22s 21ms/step - loss: 0.0209 - acc: 0.9957 - val_loss: 0.0619 - val_acc: 0.9905\n",
      "Epoch 63/80\n",
      "262/262 [==============================] - 2s 7ms/step - loss: 0.0284 - acc: 0.9952\n",
      "1048/1048 [==============================] - 23s 22ms/step - loss: 0.0160 - acc: 0.9957 - val_loss: 0.0284 - val_acc: 0.9952\n",
      "Epoch 64/80\n",
      "262/262 [==============================] - 2s 7ms/step - loss: 0.0112 - acc: 0.9962\n",
      "1048/1048 [==============================] - 23s 22ms/step - loss: 0.0117 - acc: 0.9964 - val_loss: 0.0112 - val_acc: 0.9962\n",
      "Epoch 65/80\n",
      "262/262 [==============================] - 2s 6ms/step - loss: 0.0337 - acc: 0.9924\n",
      "1048/1048 [==============================] - 23s 22ms/step - loss: 0.0207 - acc: 0.9967 - val_loss: 0.0337 - val_acc: 0.9924\n",
      "Epoch 66/80\n",
      "262/262 [==============================] - 2s 9ms/step - loss: 0.0162 - acc: 0.9952\n",
      "1048/1048 [==============================] - 29s 28ms/step - loss: 0.0189 - acc: 0.9969 - val_loss: 0.0162 - val_acc: 0.9952\n",
      "Epoch 67/80\n",
      "262/262 [==============================] - 2s 9ms/step - loss: 0.0381 - acc: 0.9914\n",
      "1048/1048 [==============================] - 28s 26ms/step - loss: 0.0244 - acc: 0.9950 - val_loss: 0.0381 - val_acc: 0.9914\n",
      "Epoch 68/80\n",
      "262/262 [==============================] - 2s 8ms/step - loss: 0.0109 - acc: 0.9981\n",
      "1048/1048 [==============================] - 26s 25ms/step - loss: 0.0085 - acc: 0.9974 - val_loss: 0.0109 - val_acc: 0.9981\n",
      "Epoch 69/80\n",
      "262/262 [==============================] - 2s 8ms/step - loss: 0.0276 - acc: 0.9933\n",
      "1048/1048 [==============================] - 25s 24ms/step - loss: 0.0165 - acc: 0.9967 - val_loss: 0.0276 - val_acc: 0.9933\n",
      "Epoch 70/80\n",
      "262/262 [==============================] - 3s 10ms/step - loss: 0.0260 - acc: 0.9924\n",
      "1048/1048 [==============================] - 26s 25ms/step - loss: 0.0173 - acc: 0.9969 - val_loss: 0.0260 - val_acc: 0.9924\n",
      "Epoch 71/80\n",
      "262/262 [==============================] - 2s 7ms/step - loss: 5.7435e-04 - acc: 1.0000\n",
      "1048/1048 [==============================] - 25s 24ms/step - loss: 0.0177 - acc: 0.9967 - val_loss: 5.7435e-04 - val_acc: 1.0000\n",
      "Epoch 72/80\n",
      "262/262 [==============================] - 2s 8ms/step - loss: 0.0180 - acc: 0.9952\n",
      "1048/1048 [==============================] - 24s 23ms/step - loss: 0.0166 - acc: 0.9957 - val_loss: 0.0180 - val_acc: 0.9952\n",
      "Epoch 73/80\n",
      "262/262 [==============================] - 2s 7ms/step - loss: 0.0204 - acc: 0.9962ETA: 1s - loss: 0.01\n",
      "1048/1048 [==============================] - 24s 23ms/step - loss: 0.0146 - acc: 0.9964 - val_loss: 0.0204 - val_acc: 0.9962\n"
     ]
    },
    {
     "name": "stdout",
     "output_type": "stream",
     "text": [
      "Epoch 74/80\n",
      "262/262 [==============================] - 2s 7ms/step - loss: 0.0368 - acc: 0.9914\n",
      "1048/1048 [==============================] - 24s 23ms/step - loss: 0.0218 - acc: 0.9959 - val_loss: 0.0368 - val_acc: 0.9914\n",
      "Epoch 75/80\n",
      "262/262 [==============================] - 2s 7ms/step - loss: 0.0061 - acc: 0.9981\n",
      "1048/1048 [==============================] - 23s 22ms/step - loss: 0.0188 - acc: 0.9959 - val_loss: 0.0061 - val_acc: 0.9981\n",
      "Epoch 76/80\n",
      "262/262 [==============================] - 2s 7ms/step - loss: 0.0406 - acc: 0.9924\n",
      "1048/1048 [==============================] - 27s 26ms/step - loss: 0.0163 - acc: 0.9976 - val_loss: 0.0406 - val_acc: 0.9924\n",
      "Epoch 77/80\n",
      "262/262 [==============================] - 2s 9ms/step - loss: 0.0553 - acc: 0.9914\n",
      "1048/1048 [==============================] - 24s 23ms/step - loss: 0.0117 - acc: 0.9981 - val_loss: 0.0553 - val_acc: 0.9914\n",
      "Epoch 78/80\n",
      "262/262 [==============================] - 2s 10ms/step - loss: 0.0330 - acc: 0.9943\n",
      "1048/1048 [==============================] - 25s 24ms/step - loss: 0.0111 - acc: 0.9976 - val_loss: 0.0330 - val_acc: 0.9943\n",
      "Epoch 79/80\n",
      "262/262 [==============================] - 2s 6ms/step - loss: 0.0313 - acc: 0.9933\n",
      "1048/1048 [==============================] - 25s 24ms/step - loss: 0.0112 - acc: 0.9969 - val_loss: 0.0313 - val_acc: 0.9933\n",
      "Epoch 80/80\n",
      "262/262 [==============================] - 2s 7ms/step - loss: 0.0354 - acc: 0.9952\n",
      "1048/1048 [==============================] - 26s 24ms/step - loss: 0.0200 - acc: 0.9969 - val_loss: 0.0354 - val_acc: 0.9952\n"
     ]
    }
   ],
   "source": [
    "Batch_Size = 4\n",
    "Epoch_Anz = 80\n",
    "Shift_Range = 1\n",
    "Brightness_Range = 0.3\n",
    "Rotation_Angle = 10\n",
    "ZoomRange = 0.4\n",
    "\n",
    "datagen = ImageDataGenerator(width_shift_range=[-Shift_Range,Shift_Range], \n",
    "                             height_shift_range=[-Shift_Range,Shift_Range],\n",
    "                             brightness_range=[1-Brightness_Range,1+Brightness_Range],\n",
    "                             zoom_range=[1-ZoomRange, 1+ZoomRange],\n",
    "                             rotation_range=Rotation_Angle,\n",
    "                             validation_split=0.2)\n",
    "\n",
    "train_iterator = datagen.flow(X_train, y_train, batch_size=Batch_Size)\n",
    "validation_iterator = datagen.flow(X_test, y_test, batch_size=Batch_Size)\n",
    "\n",
    "history = model.fit_generator(train_iterator, validation_data = validation_iterator, epochs = Epoch_Anz)\n"
   ]
  },
  {
   "cell_type": "markdown",
   "metadata": {},
   "source": [
    "### Step 1: Learing result\n",
    " \n",
    "* Visualization of the training and validation results"
   ]
  },
  {
   "cell_type": "code",
   "execution_count": 5,
   "metadata": {},
   "outputs": [
    {
     "data": {
      "image/png": "[encoded data removed]",
      "text/plain": [
       "<Figure size 432x288 with 1 Axes>"
      ]
     },
     "metadata": {
      "needs_background": "light"
     },
     "output_type": "display_data"
    }
   ],
   "source": [
    "loss_ges = np.append(loss_ges, history.history['loss'])\n",
    "val_loss_ges = np.append(val_loss_ges, history.history['val_loss'])\n",
    "\n",
    "plt.semilogy(history.history['loss'])\n",
    "plt.semilogy(history.history['val_loss'])\n",
    "plt.title('model loss')\n",
    "plt.ylabel('loss')\n",
    "plt.xlabel('epoch')\n",
    "plt.legend(['train','eval'], loc='upper left')\n",
    "plt.show()"
   ]
  },
  {
   "cell_type": "markdown",
   "metadata": {},
   "source": [
    "### Check the model by hand\n",
    "\n",
    "* The following code uses the trained model to check the deviation for each picture.\n",
    "* x-axis walks through each pixel, y-axis shows the result"
   ]
  },
  {
   "cell_type": "code",
   "execution_count": 6,
   "metadata": {},
   "outputs": [
    {
     "data": {
      "image/png": "[encoded data removed]",
      "text/plain": [
       "<Figure size 432x288 with 1 Axes>"
      ]
     },
     "metadata": {
      "needs_background": "light"
     },
     "output_type": "display_data"
    }
   ],
   "source": [
    "Input_dir='ziffer_sortiert_resize'\n",
    "subdir = [\"NaN\", \"0\", \"1\", \"2\", \"3\", \"4\", \"5\", \"6\", \"7\", \"8\", \"9\"]\n",
    "res = []\n",
    "\n",
    "for aktsubdir in subdir:\n",
    "    files = glob.glob(Input_dir + '/' + aktsubdir + '\\*.jpg')\n",
    "    if aktsubdir == \"NaN\":\n",
    "        zw1 = -1\n",
    "    else:\n",
    "        zw1 = int(aktsubdir)\n",
    "    for aktfile in files:\n",
    "        test_image = cv2.imread(aktfile)\n",
    "        test_image = np.array(test_image, dtype=\"float32\")\n",
    "        img = np.reshape(test_image,[1,32,20,3])\n",
    "        classes = model.predict_classes(img)\n",
    "        classes = classes[0]\n",
    "        if classes == 10: \n",
    "            classes = -1\n",
    "        zw2 = classes\n",
    "        zw3 = zw2 - zw1\n",
    "        res.append(np.array([zw1, zw2, zw3]))\n",
    "\n",
    "res = np.asarray(res)\n",
    "\n",
    "\n",
    "plt.plot(res[:,0])\n",
    "plt.plot(res[:,1])\n",
    "plt.title('Result')\n",
    "plt.ylabel('Digital Value')\n",
    "plt.xlabel('#Picture')\n",
    "plt.legend(['real','model'], loc='upper left')\n",
    "plt.show()"
   ]
  },
  {
   "cell_type": "markdown",
   "metadata": {},
   "source": [
    "### Save the model\n",
    "\n",
    "* Save the model to the file with the \"h5\" file format"
   ]
  },
  {
   "cell_type": "code",
   "execution_count": 9,
   "metadata": {},
   "outputs": [],
   "source": [
    "model.save(\"Train_CNN_Digital-Readout_BiggerZoom_OpenCV.h5\")"
   ]
  },
  {
   "cell_type": "markdown",
   "metadata": {},
   "source": [
    "### Check each image for expected and deviation\n",
    "* setting the switch \"only_deviation = true\" will only print the images for which the classification and the CNN-result deviates\n",
    "\n",
    "The output contains the following information:\n",
    "\n",
    "| Filename      | Expected Category           | Predicted Category        |\n",
    "|------------- |:-----------------------------:|--------------|\n",
    "| ziffer_sortiert_resize_NaN/5\\Ziffer_4_0034.jpg | 4  | -1 |\n"
   ]
  },
  {
   "cell_type": "code",
   "execution_count": 10,
   "metadata": {},
   "outputs": [
    {
     "name": "stdout",
     "output_type": "stream",
     "text": [
      "ziffer_sortiert_resize/2\\Ziffer_2_0150.jpg 2 4\n",
      "ziffer_sortiert_resize/5\\Ziffer_5_0016.jpg 5 NaN\n",
      "ziffer_sortiert_resize/5\\Ziffer_5_0017.jpg 5 NaN\n",
      "ziffer_sortiert_resize/6\\Ziffer_6_0001.jpg 6 NaN\n",
      "ziffer_sortiert_resize/6\\Ziffer_6_0002.jpg 6 NaN\n",
      "ziffer_sortiert_resize/6\\Ziffer_6_0003.jpg 6 NaN\n",
      "ziffer_sortiert_resize/6\\Ziffer_6_0150.jpg 6 NaN\n",
      "ziffer_sortiert_resize/NaN\\Ziffer_NaN_1912.jpg NaN 1\n",
      "ziffer_sortiert_resize/NaN\\Ziffer_NaN_1913.jpg NaN 1\n",
      "ziffer_sortiert_resize/NaN\\Ziffer_NaN_1914.jpg NaN 1\n",
      "ziffer_sortiert_resize/NaN\\Ziffer_NaN_3737.jpg NaN 5\n"
     ]
    }
   ],
   "source": [
    "Input_dir='ziffer_sortiert_resize'\n",
    "only_deviation = True\n",
    "\n",
    "subdir = [\"0\", \"1\", \"2\", \"3\", \"4\", \"5\", \"6\", \"7\", \"8\", \"9\", \"NaN\"]\n",
    "\n",
    "for aktsubdir in subdir:\n",
    "    files = glob.glob(Input_dir + '/' + aktsubdir + '\\*.jpg')\n",
    "    expected_class = aktsubdir\n",
    "    for aktfile in files:\n",
    "        test_image = cv2.imread(aktfile)\n",
    "        test_image = np.array(test_image, dtype=\"float32\")\n",
    "        img = np.reshape(test_image,[1,32,20,3])\n",
    "        classes = model.predict_classes(img)\n",
    "        classes = classes[0]\n",
    "        if classes == 10: \n",
    "            classes = \"NaN\"\n",
    "        if only_deviation == True:\n",
    "            if str(classes) != str(expected_class):\n",
    "                print(aktfile + \" \" + aktsubdir +  \" \" + str(classes))\n",
    "        else:\n",
    "            print(aktfile + \" \" + aktsubdir +  \" \" + str(classes))\n"
   ]
  },
  {
   "cell_type": "markdown",
   "metadata": {},
   "source": [
    "Checking the images shows, that this are border line images, which can be interpreted as a good digit or a faulty one."
   ]
  },
  {
   "cell_type": "code",
   "execution_count": null,
   "metadata": {},
   "outputs": [],
   "source": []
  }
 ],
 "metadata": {
  "kernelspec": {
   "display_name": "Python 3",
   "language": "python",
   "name": "python3"
  },
  "language_info": {
   "codemirror_mode": {
    "name": "ipython",
    "version": 3
   },
   "file_extension": ".py",
   "mimetype": "text/x-python",
   "name": "python",
   "nbconvert_exporter": "python",
   "pygments_lexer": "ipython3",
   "version": "3.7.4"
  }
 },
 "nbformat": 4,
 "nbformat_minor": 2
}
